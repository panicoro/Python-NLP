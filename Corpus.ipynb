{
 "cells": [
  {
   "cell_type": "markdown",
   "id": "2cf6cc50-93e9-4a9f-8180-0253bb4d0355",
   "metadata": {},
   "source": [
    "# **Practical Understanding of a Corpus and Dataset**"
   ]
  },
  {
   "cell_type": "markdown",
   "id": "7f00dfee-42e6-49c4-9fa3-69b727b81cad",
   "metadata": {},
   "source": [
    "## What is a corpus?\n",
    "\n",
    "Corpus is a collection of written or spoken natural language material, stored on computer,\n",
    "and used to find out how language is used. So more precisely, a corpus is a systematic\n",
    "computerized collection of authentic language that is used for linguistic analysis as well as\n",
    "corpus analysis. If you have more than one corpus, it is called **corpora**.\n",
    "\n",
    "Sometimes, NLP applications use a single corpus as the input, and at other times, they use multiple corpora as input.\n",
    "\n",
    "There are three types of corpus:\n",
    "* **Monolingual corpus**: This type of corpus has one language\n",
    "* **Bilingual corpus**: This type of corpus has two languages\n",
    "* **Multilingual corpus**: This type of corpus has more than one language"
   ]
  },
  {
   "cell_type": "code",
   "execution_count": 11,
   "id": "cbc0d70d-3284-41fb-bcd0-ba0520012581",
   "metadata": {},
   "outputs": [],
   "source": [
    "import nltk\n",
    "\n",
    "from nltk.corpus import brown as cb\n",
    "from nltk.corpus import gutenberg as cg"
   ]
  },
  {
   "cell_type": "code",
   "execution_count": 17,
   "id": "c8033ad0-7fd0-479c-8a8e-c3f87df42dc7",
   "metadata": {
    "scrolled": true
   },
   "outputs": [
    {
     "data": {
      "text/plain": [
       "[['The', 'Fulton', 'County', 'Grand', 'Jury', 'said', 'Friday', 'an', 'investigation', 'of', \"Atlanta's\", 'recent', 'primary', 'election', 'produced', '``', 'no', 'evidence', \"''\", 'that', 'any', 'irregularities', 'took', 'place', '.'], ['The', 'jury', 'further', 'said', 'in', 'term-end', 'presentments', 'that', 'the', 'City', 'Executive', 'Committee', ',', 'which', 'had', 'over-all', 'charge', 'of', 'the', 'election', ',', '``', 'deserves', 'the', 'praise', 'and', 'thanks', 'of', 'the', 'City', 'of', 'Atlanta', \"''\", 'for', 'the', 'manner', 'in', 'which', 'the', 'election', 'was', 'conducted', '.'], ...]"
      ]
     },
     "execution_count": 17,
     "metadata": {},
     "output_type": "execute_result"
    }
   ],
   "source": [
    "# cb.fileids() This results in files of the corpus\n",
    "# cb.categories() This lists categories of the corpus\n",
    "# cb.raw() This shows the raw content of the corpus\n",
    "# cb.words() This shows the words of the whole corpus\n",
    "cb.sents()"
   ]
  },
  {
   "cell_type": "markdown",
   "id": "0672a1e2-e4be-4cd9-8c4b-72f3093fc2f9",
   "metadata": {},
   "source": [
    "#### Exercise\n",
    "1. Calculate the number of words in the brown corpus with fileID: fileidcc12.\n",
    "2. Create your own corpus file, load it using nltk, and then check the frequency\n",
    "distribution of that corpus."
   ]
  },
  {
   "cell_type": "code",
   "execution_count": 20,
   "id": "840aad25-34ac-4632-963f-26d93ddab3d5",
   "metadata": {},
   "outputs": [
    {
     "data": {
      "text/plain": [
       "2342"
      ]
     },
     "execution_count": 20,
     "metadata": {},
     "output_type": "execute_result"
    }
   ],
   "source": [
    "len(cb.words(fileids=[\"cc12\"]))"
   ]
  },
  {
   "cell_type": "code",
   "execution_count": 22,
   "id": "d13f9ccf-5048-45d6-a5e6-ffda5f60378d",
   "metadata": {},
   "outputs": [
    {
     "data": {
      "text/plain": [
       "b'Vorspeise\\n\\ndie Zwiebelsuppe\\ndie Fleischsuppe\\ndie Fishsuppe\\n\\n\\n_______________________________________________________\\nHauptgericht\\n\\ndas Fischpizza\\ndie Eierpizza\\ndie Zwiebelpizza\\nder Fleischkuchen\\nder Fishsalat\\n\\n_______________________________________________________\\nDessert/Nachtisch\\n\\nder Obstsalat\\nder Zitronenkuchen\\ndas Zitroneneis\\nder Milchreis\\n\\n'"
      ]
     },
     "execution_count": 22,
     "metadata": {},
     "output_type": "execute_result"
    }
   ],
   "source": [
    "nltk.data.load('corpora/mycorpus/worter.txt', format='raw')"
   ]
  },
  {
   "cell_type": "code",
   "execution_count": 27,
   "id": "77f9d522-a2a3-4253-81a6-98d167478ab9",
   "metadata": {},
   "outputs": [],
   "source": [
    "import os, os.path\n",
    "from nltk.corpus.reader import PlaintextCorpusReader\n",
    "\n",
    "corpus_root = os.path.expanduser('~/nltk_data/corpora/mycorpus')\n",
    "corpus = PlaintextCorpusReader(corpus_root, '.*', encoding='latin1')"
   ]
  },
  {
   "cell_type": "code",
   "execution_count": 30,
   "id": "93c2ebd0-efd0-4d49-a42e-9c628174e24d",
   "metadata": {},
   "outputs": [
    {
     "data": {
      "text/plain": [
       "['Vorspeise', 'die', 'Zwiebelsuppe', 'die', ...]"
      ]
     },
     "execution_count": 30,
     "metadata": {},
     "output_type": "execute_result"
    }
   ],
   "source": [
    "corpus.words()"
   ]
  },
  {
   "cell_type": "markdown",
   "id": "6bb32f3f-ef16-4bc6-9df4-1e6ff9e0da4d",
   "metadata": {},
   "source": [
    "## Understanding types of data attributes"
   ]
  },
  {
   "cell_type": "markdown",
   "id": "e3d663e0-d579-40d6-b40e-5b9d9207ec88",
   "metadata": {},
   "source": [
    "##### Categorical or qualitative data attributes\n",
    "\n",
    "Categorical or qualitative data attributes are as follows:\n",
    "\n",
    "* These kinds of data attributes are more descriptive\n",
    "* Examples are our written notes, corpora provided by ```nltk```, a corpus that has recorded different types of breeds of dogs, such as collie, shepherd, and terrier\n",
    "\n",
    "There are two sub-types of categorical data attributes:\n",
    "\n",
    "* **Ordinal data**: This type of data attribute is used to measure non-numeric concepts such as satisfaction level, happiness level, discomfort level, and so on.\n",
    "* **Nominal data**: This type of data attribute is used to record data that doesn't overlap. Example: What is your gender? The answer is either male or female, and the answers are not overlapping.\n",
    "\n",
    "##### Numeric or quantitative data attributes\n",
    "\n",
    "The following are numeric or quantitative data attributes:\n",
    "\n",
    "* These kinds of data attributes are numeric and represent a measurable quantity\n",
    "* Examples: Financial data, population of a city, weight of people, and so on\n",
    "\n",
    "There are two sub-types of numeric data attributes:\n",
    "* **Continuous data**: These kinds of data attributes are continuous. Examples: If you are recording the weight of a student, from 10 to 12 years of age, whatever data you collect about the student's weight is continuous data; Iris flower corpus\n",
    "* **Discrete data**: Discrete data can only take certain values. Examples: If you are rolling two dice, you can only have the resultant values of 2, 3, 4, 5, 6, 7, 8, 9, 10, 11, and 12; you never get 1 or 1.5 as a result if you are rolling two dice. Take another example: If you toss a coin, you will get either heads or tails.\n",
    "\n",
    "These kinds of data attributes are a major part of analytics applications."
   ]
  },
  {
   "cell_type": "code",
   "execution_count": 33,
   "id": "7278400d-1606-44fa-8347-067dfda9ff41",
   "metadata": {},
   "outputs": [
    {
     "data": {
      "text/plain": [
       "['AlignedCorpusReader',\n",
       " 'AlpinoCorpusReader',\n",
       " 'BCP47CorpusReader',\n",
       " 'BNCCorpusReader',\n",
       " 'BracketParseCorpusReader',\n",
       " 'CHILDESCorpusReader',\n",
       " 'CMUDictCorpusReader',\n",
       " 'CategorizedBracketParseCorpusReader',\n",
       " 'CategorizedCorpusReader',\n",
       " 'CategorizedPlaintextCorpusReader',\n",
       " 'CategorizedSentencesCorpusReader',\n",
       " 'CategorizedTaggedCorpusReader',\n",
       " 'ChasenCorpusReader',\n",
       " 'ChunkedCorpusReader',\n",
       " 'ComparativeSentencesCorpusReader',\n",
       " 'ConllChunkCorpusReader',\n",
       " 'ConllCorpusReader',\n",
       " 'CorpusReader',\n",
       " 'CrubadanCorpusReader',\n",
       " 'DependencyCorpusReader',\n",
       " 'EuroparlCorpusReader',\n",
       " 'FramenetCorpusReader',\n",
       " 'IEERCorpusReader',\n",
       " 'IPIPANCorpusReader',\n",
       " 'IndianCorpusReader',\n",
       " 'KNBCorpusReader',\n",
       " 'LazyCorpusLoader',\n",
       " 'LinThesaurusCorpusReader',\n",
       " 'MTECorpusReader',\n",
       " 'MWAPPDBCorpusReader',\n",
       " 'MacMorphoCorpusReader',\n",
       " 'NKJPCorpusReader',\n",
       " 'NPSChatCorpusReader',\n",
       " 'NombankCorpusReader',\n",
       " 'NonbreakingPrefixesCorpusReader',\n",
       " 'OpinionLexiconCorpusReader',\n",
       " 'PPAttachmentCorpusReader',\n",
       " 'PanLexLiteCorpusReader',\n",
       " 'PanlexSwadeshCorpusReader',\n",
       " 'Pl196xCorpusReader',\n",
       " 'PlaintextCorpusReader',\n",
       " 'PortugueseCategorizedPlaintextCorpusReader',\n",
       " 'PropbankCorpusReader',\n",
       " 'ProsConsCorpusReader',\n",
       " 'RTECorpusReader',\n",
       " 'RegexpTokenizer',\n",
       " 'ReviewsCorpusReader',\n",
       " 'SemcorCorpusReader',\n",
       " 'SensevalCorpusReader',\n",
       " 'SentiSynset',\n",
       " 'SentiWordNetCorpusReader',\n",
       " 'SinicaTreebankCorpusReader',\n",
       " 'StringCategoryCorpusReader',\n",
       " 'SwadeshCorpusReader',\n",
       " 'SwitchboardCorpusReader',\n",
       " 'SyntaxCorpusReader',\n",
       " 'TEICorpusView',\n",
       " 'TaggedCorpusReader',\n",
       " 'TimitCorpusReader',\n",
       " 'TimitTaggedCorpusReader',\n",
       " 'ToolboxCorpusReader',\n",
       " 'TwitterCorpusReader',\n",
       " 'UdhrCorpusReader',\n",
       " 'UnicharsCorpusReader',\n",
       " 'VerbnetCorpusReader',\n",
       " 'WordListCorpusReader',\n",
       " 'WordNetCorpusReader',\n",
       " 'WordNetICCorpusReader',\n",
       " 'XMLCorpusReader',\n",
       " 'YCOECorpusReader',\n",
       " '__annotations__',\n",
       " '__builtins__',\n",
       " '__cached__',\n",
       " '__doc__',\n",
       " '__file__',\n",
       " '__loader__',\n",
       " '__name__',\n",
       " '__package__',\n",
       " '__path__',\n",
       " '__spec__',\n",
       " 'abc',\n",
       " 'alpino',\n",
       " 'bcp47',\n",
       " 'brown',\n",
       " 'cess_cat',\n",
       " 'cess_esp',\n",
       " 'cmudict',\n",
       " 'comparative_sentences',\n",
       " 'comtrans',\n",
       " 'conll2000',\n",
       " 'conll2002',\n",
       " 'conll2007',\n",
       " 'crubadan',\n",
       " 'demo',\n",
       " 'dependency_treebank',\n",
       " 'extended_omw',\n",
       " 'find_corpus_fileids',\n",
       " 'floresta',\n",
       " 'framenet',\n",
       " 'framenet15',\n",
       " 'gazetteers',\n",
       " 'genesis',\n",
       " 'gutenberg',\n",
       " 'ieer',\n",
       " 'inaugural',\n",
       " 'indian',\n",
       " 'jeita',\n",
       " 'knbc',\n",
       " 'lin_thesaurus',\n",
       " 'mac_morpho',\n",
       " 'machado',\n",
       " 'masc_tagged',\n",
       " 'movie_reviews',\n",
       " 'multext_east',\n",
       " 'names',\n",
       " 'nombank',\n",
       " 'nombank_ptb',\n",
       " 'nonbreaking_prefixes',\n",
       " 'nps_chat',\n",
       " 'opinion_lexicon',\n",
       " 'perluniprops',\n",
       " 'ppattach',\n",
       " 'product_reviews_1',\n",
       " 'product_reviews_2',\n",
       " 'propbank',\n",
       " 'propbank_ptb',\n",
       " 'pros_cons',\n",
       " 'ptb',\n",
       " 'qc',\n",
       " 're',\n",
       " 'reader',\n",
       " 'reuters',\n",
       " 'rte',\n",
       " 'semcor',\n",
       " 'senseval',\n",
       " 'sentence_polarity',\n",
       " 'sentiwordnet',\n",
       " 'shakespeare',\n",
       " 'sinica_treebank',\n",
       " 'state_union',\n",
       " 'stopwords',\n",
       " 'subjectivity',\n",
       " 'swadesh',\n",
       " 'swadesh110',\n",
       " 'swadesh207',\n",
       " 'switchboard',\n",
       " 'tagged_treebank_para_block_reader',\n",
       " 'timit',\n",
       " 'timit_tagged',\n",
       " 'toolbox',\n",
       " 'treebank',\n",
       " 'treebank_chunk',\n",
       " 'treebank_raw',\n",
       " 'twitter_samples',\n",
       " 'udhr',\n",
       " 'udhr2',\n",
       " 'universal_treebanks',\n",
       " 'util',\n",
       " 'verbnet',\n",
       " 'webtext',\n",
       " 'wordnet',\n",
       " 'wordnet2021',\n",
       " 'wordnet31',\n",
       " 'wordnet_ic',\n",
       " 'words']"
      ]
     },
     "execution_count": 33,
     "metadata": {},
     "output_type": "execute_result"
    }
   ],
   "source": [
    "import nltk.corpus\n",
    "dir(nltk.corpus)"
   ]
  },
  {
   "cell_type": "code",
   "execution_count": null,
   "id": "d66f908c-4e6e-4805-ae38-6a32cd1c4378",
   "metadata": {},
   "outputs": [],
   "source": []
  }
 ],
 "metadata": {
  "kernelspec": {
   "display_name": "Python 3 (ipykernel)",
   "language": "python",
   "name": "python3"
  },
  "language_info": {
   "codemirror_mode": {
    "name": "ipython",
    "version": 3
   },
   "file_extension": ".py",
   "mimetype": "text/x-python",
   "name": "python",
   "nbconvert_exporter": "python",
   "pygments_lexer": "ipython3",
   "version": "3.11.6"
  }
 },
 "nbformat": 4,
 "nbformat_minor": 5
}
